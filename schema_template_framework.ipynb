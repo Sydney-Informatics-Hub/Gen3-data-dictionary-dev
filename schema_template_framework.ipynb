{
 "cells": [
  {
   "cell_type": "markdown",
   "metadata": {},
   "source": [
    "# "
   ]
  },
  {
   "cell_type": "markdown",
   "metadata": {},
   "source": [
    "# Gen3 Schema Development Framework \n",
    "\n",
    "This notebook provides a framework for developing a gen3 data schema using an ***existing data schema as a template***. For this project we used the Kidsfirst data. Working from the following resources: \n",
    "\n",
    "* [uc-cdis/kf-dictionary](https://github.com/uc-cdis/kf-dictionary/tree/develop)\n",
    "* [AustralianBioCommons/gen3schemadev](https://github.com/AustralianBioCommons/gen3schemadev)\n",
    "* [Thyroid dictionary graph structure](https://drive.google.com/file/d/1DsSTsl_jExKRcDp-OWfsMcSMb_firDKK/view?usp=sharing)"
   ]
  },
  {
   "cell_type": "markdown",
   "metadata": {},
   "source": [
    "## Set up the environment"
   ]
  },
  {
   "cell_type": "code",
   "execution_count": 1,
   "metadata": {},
   "outputs": [],
   "source": [
    "# Set working directory\n",
    "!cd /Users/gsam0138/Documents/Repositories/Gen3-data-dictionary-dev"
   ]
  },
  {
   "cell_type": "code",
   "execution_count": 2,
   "metadata": {},
   "outputs": [
    {
     "name": "stdout",
     "output_type": "stream",
     "text": [
      "fatal: destination path 'kf-dictionary' already exists and is not an empty directory.\n"
     ]
    }
   ],
   "source": [
    "# Clone kf-dictionary repository, will be using this as template: \n",
    "!git clone https://github.com/uc-cdis/kf-dictionary.git"
   ]
  },
  {
   "cell_type": "code",
   "execution_count": 3,
   "metadata": {},
   "outputs": [
    {
     "name": "stdout",
     "output_type": "stream",
     "text": [
      "fatal: destination path 'gen3schemadev' already exists and is not an empty directory.\n"
     ]
    }
   ],
   "source": [
    "# Clone Australian BioCommons schema repository, this is where we will save thyroid schema:\n",
    "!git clone https://github.com/AustralianBioCommons/gen3schemadev.git"
   ]
  },
  {
   "cell_type": "code",
   "execution_count": 21,
   "metadata": {},
   "outputs": [
    {
     "name": "stdout",
     "output_type": "stream",
     "text": [
      "mkdir: gen3schemadev/schema/kidsfirst: File exists\n"
     ]
    }
   ],
   "source": [
    "# Copy the kf yamls across to the AustralianBioCommons/gen3schemadev codebase: \n",
    "!mkdir gen3schemadev/schema/kidsfirst\n",
    "!cp -r kf-dictionary/gdcdictionary/schemas/* ./gen3schemadev/schema/kidsfirst"
   ]
  },
  {
   "cell_type": "code",
   "execution_count": 22,
   "metadata": {
    "vscode": {
     "languageId": "shellscript"
    }
   },
   "outputs": [
    {
     "name": "stdout",
     "output_type": "stream",
     "text": [
      "zsh:1: /Users/gsam0138/Documents/Repositories/Gen3-data-dictionary-dev/.venv/bin/pip3: bad interpreter: /Users/gsam0138/Documents/Gen3-data-dictionary-dev/.venv/bin/python3: no such file or directory\n",
      "Requirement already satisfied: setuptools in /opt/miniconda3/lib/python3.12/site-packages (from -r ./gen3schemadev/requirements.txt (line 1)) (68.2.2)\n",
      "Requirement already satisfied: PyYAML in /opt/miniconda3/lib/python3.12/site-packages (from -r ./gen3schemadev/requirements.txt (line 2)) (6.0.1)\n",
      "Requirement already satisfied: pandas in /opt/miniconda3/lib/python3.12/site-packages (from -r ./gen3schemadev/requirements.txt (line 3)) (2.2.1)\n",
      "Requirement already satisfied: openpyxl in /opt/miniconda3/lib/python3.12/site-packages (from -r ./gen3schemadev/requirements.txt (line 4)) (3.1.2)\n",
      "Requirement already satisfied: oyaml in /opt/miniconda3/lib/python3.12/site-packages (from -r ./gen3schemadev/requirements.txt (line 5)) (1.0)\n",
      "Requirement already satisfied: networkx in /opt/miniconda3/lib/python3.12/site-packages (from -r ./gen3schemadev/requirements.txt (line 6)) (3.2.1)\n",
      "Requirement already satisfied: matplotlib in /opt/miniconda3/lib/python3.12/site-packages (from -r ./gen3schemadev/requirements.txt (line 7)) (3.8.4)\n",
      "Requirement already satisfied: ete3 in /opt/miniconda3/lib/python3.12/site-packages (from -r ./gen3schemadev/requirements.txt (line 8)) (3.1.3)\n",
      "Requirement already satisfied: dictionaryutils in /opt/miniconda3/lib/python3.12/site-packages (from -r ./gen3schemadev/requirements.txt (line 9)) (3.4.10)\n",
      "Requirement already satisfied: numpy in /opt/miniconda3/lib/python3.12/site-packages (from -r ./gen3schemadev/requirements.txt (line 10)) (1.26.4)\n",
      "Collecting argparse (from -r ./gen3schemadev/requirements.txt (line 11))\n",
      "  Using cached argparse-1.4.0-py2.py3-none-any.whl.metadata (2.8 kB)\n",
      "Requirement already satisfied: gen3 in /opt/miniconda3/lib/python3.12/site-packages (from -r ./gen3schemadev/requirements.txt (line 13)) (4.22.4)\n",
      "Requirement already satisfied: requests in /opt/miniconda3/lib/python3.12/site-packages (from -r ./gen3schemadev/requirements.txt (line 14)) (2.31.0)\n",
      "Requirement already satisfied: ldap3 in /opt/miniconda3/lib/python3.12/site-packages (from -r ./gen3schemadev/requirements.txt (line 15)) (2.9.1)\n",
      "Requirement already satisfied: python-dateutil>=2.8.2 in /opt/miniconda3/lib/python3.12/site-packages (from pandas->-r ./gen3schemadev/requirements.txt (line 3)) (2.8.2)\n",
      "Requirement already satisfied: pytz>=2020.1 in /opt/miniconda3/lib/python3.12/site-packages (from pandas->-r ./gen3schemadev/requirements.txt (line 3)) (2024.1)\n",
      "Requirement already satisfied: tzdata>=2022.7 in /opt/miniconda3/lib/python3.12/site-packages (from pandas->-r ./gen3schemadev/requirements.txt (line 3)) (2024.1)\n",
      "Requirement already satisfied: et-xmlfile in /opt/miniconda3/lib/python3.12/site-packages (from openpyxl->-r ./gen3schemadev/requirements.txt (line 4)) (1.1.0)\n",
      "Requirement already satisfied: contourpy>=1.0.1 in /opt/miniconda3/lib/python3.12/site-packages (from matplotlib->-r ./gen3schemadev/requirements.txt (line 7)) (1.2.1)\n",
      "Requirement already satisfied: cycler>=0.10 in /opt/miniconda3/lib/python3.12/site-packages (from matplotlib->-r ./gen3schemadev/requirements.txt (line 7)) (0.12.1)\n",
      "Requirement already satisfied: fonttools>=4.22.0 in /opt/miniconda3/lib/python3.12/site-packages (from matplotlib->-r ./gen3schemadev/requirements.txt (line 7)) (4.50.0)\n",
      "Requirement already satisfied: kiwisolver>=1.3.1 in /opt/miniconda3/lib/python3.12/site-packages (from matplotlib->-r ./gen3schemadev/requirements.txt (line 7)) (1.4.5)\n",
      "Requirement already satisfied: packaging>=20.0 in /opt/miniconda3/lib/python3.12/site-packages (from matplotlib->-r ./gen3schemadev/requirements.txt (line 7)) (23.2)\n",
      "Requirement already satisfied: pillow>=8 in /opt/miniconda3/lib/python3.12/site-packages (from matplotlib->-r ./gen3schemadev/requirements.txt (line 7)) (10.3.0)\n",
      "Requirement already satisfied: pyparsing>=2.3.1 in /opt/miniconda3/lib/python3.12/site-packages (from matplotlib->-r ./gen3schemadev/requirements.txt (line 7)) (3.1.2)\n",
      "Requirement already satisfied: cdislogging<2.0.0,>=1.0.0 in /opt/miniconda3/lib/python3.12/site-packages (from dictionaryutils->-r ./gen3schemadev/requirements.txt (line 9)) (1.1.1)\n",
      "Requirement already satisfied: jsonschema<4,>=2.5 in /opt/miniconda3/lib/python3.12/site-packages (from dictionaryutils->-r ./gen3schemadev/requirements.txt (line 9)) (3.2.0)\n",
      "Requirement already satisfied: aiofiles<0.9.0,>=0.8.0 in /opt/miniconda3/lib/python3.12/site-packages (from gen3->-r ./gen3schemadev/requirements.txt (line 13)) (0.8.0)\n",
      "Requirement already satisfied: aiohttp in /opt/miniconda3/lib/python3.12/site-packages (from gen3->-r ./gen3schemadev/requirements.txt (line 13)) (3.9.3)\n",
      "Requirement already satisfied: backoff in /opt/miniconda3/lib/python3.12/site-packages (from gen3->-r ./gen3schemadev/requirements.txt (line 13)) (1.11.1)\n",
      "Requirement already satisfied: click in /opt/miniconda3/lib/python3.12/site-packages (from gen3->-r ./gen3schemadev/requirements.txt (line 13)) (8.1.7)\n",
      "Requirement already satisfied: dataclasses-json<=0.5.9 in /opt/miniconda3/lib/python3.12/site-packages (from gen3->-r ./gen3schemadev/requirements.txt (line 13)) (0.5.9)\n",
      "Requirement already satisfied: drsclient<0.3.0,>=0.2.2 in /opt/miniconda3/lib/python3.12/site-packages (from gen3->-r ./gen3schemadev/requirements.txt (line 13)) (0.2.3)\n",
      "Requirement already satisfied: gen3users in /opt/miniconda3/lib/python3.12/site-packages (from gen3->-r ./gen3schemadev/requirements.txt (line 13)) (1.0.3)\n",
      "Requirement already satisfied: httpx in /opt/miniconda3/lib/python3.12/site-packages (from gen3->-r ./gen3schemadev/requirements.txt (line 13)) (0.23.3)\n",
      "Requirement already satisfied: humanfriendly in /opt/miniconda3/lib/python3.12/site-packages (from gen3->-r ./gen3schemadev/requirements.txt (line 13)) (10.0)\n",
      "Requirement already satisfied: indexclient in /opt/miniconda3/lib/python3.12/site-packages (from gen3->-r ./gen3schemadev/requirements.txt (line 13)) (2.2.1)\n",
      "Requirement already satisfied: pypfb>=0.5.27 in /opt/miniconda3/lib/python3.12/site-packages (from gen3->-r ./gen3schemadev/requirements.txt (line 13)) (0.5.29)\n",
      "Requirement already satisfied: tqdm<5.0.0,>=4.61.2 in /opt/miniconda3/lib/python3.12/site-packages (from gen3->-r ./gen3schemadev/requirements.txt (line 13)) (4.65.0)\n",
      "Requirement already satisfied: urllib3>2.0.0 in /opt/miniconda3/lib/python3.12/site-packages (from gen3->-r ./gen3schemadev/requirements.txt (line 13)) (2.1.0)\n",
      "Requirement already satisfied: xmltodict<0.14.0,>=0.13.0 in /opt/miniconda3/lib/python3.12/site-packages (from gen3->-r ./gen3schemadev/requirements.txt (line 13)) (0.13.0)\n",
      "Requirement already satisfied: charset-normalizer<4,>=2 in /opt/miniconda3/lib/python3.12/site-packages (from requests->-r ./gen3schemadev/requirements.txt (line 14)) (2.0.4)\n",
      "Requirement already satisfied: idna<4,>=2.5 in /opt/miniconda3/lib/python3.12/site-packages (from requests->-r ./gen3schemadev/requirements.txt (line 14)) (3.4)\n",
      "Requirement already satisfied: certifi>=2017.4.17 in /opt/miniconda3/lib/python3.12/site-packages (from requests->-r ./gen3schemadev/requirements.txt (line 14)) (2024.2.2)\n",
      "Requirement already satisfied: pyasn1>=0.4.6 in /opt/miniconda3/lib/python3.12/site-packages (from ldap3->-r ./gen3schemadev/requirements.txt (line 15)) (0.6.0)\n",
      "Requirement already satisfied: marshmallow<4.0.0,>=3.3.0 in /opt/miniconda3/lib/python3.12/site-packages (from dataclasses-json<=0.5.9->gen3->-r ./gen3schemadev/requirements.txt (line 13)) (3.21.1)\n",
      "Requirement already satisfied: marshmallow-enum<2.0.0,>=1.5.1 in /opt/miniconda3/lib/python3.12/site-packages (from dataclasses-json<=0.5.9->gen3->-r ./gen3schemadev/requirements.txt (line 13)) (1.5.1)\n",
      "Requirement already satisfied: typing-inspect>=0.4.0 in /opt/miniconda3/lib/python3.12/site-packages (from dataclasses-json<=0.5.9->gen3->-r ./gen3schemadev/requirements.txt (line 13)) (0.9.0)\n",
      "Requirement already satisfied: asyncio<4.0.0,>=3.4.3 in /opt/miniconda3/lib/python3.12/site-packages (from drsclient<0.3.0,>=0.2.2->gen3->-r ./gen3schemadev/requirements.txt (line 13)) (3.4.3)\n",
      "Requirement already satisfied: httpcore<0.17.0,>=0.15.0 in /opt/miniconda3/lib/python3.12/site-packages (from httpx->gen3->-r ./gen3schemadev/requirements.txt (line 13)) (0.16.3)\n",
      "Requirement already satisfied: rfc3986<2,>=1.3 in /opt/miniconda3/lib/python3.12/site-packages (from rfc3986[idna2008]<2,>=1.3->httpx->gen3->-r ./gen3schemadev/requirements.txt (line 13)) (1.5.0)\n",
      "Requirement already satisfied: sniffio in /opt/miniconda3/lib/python3.12/site-packages (from httpx->gen3->-r ./gen3schemadev/requirements.txt (line 13)) (1.3.1)\n",
      "Requirement already satisfied: attrs>=17.4.0 in /opt/miniconda3/lib/python3.12/site-packages (from jsonschema<4,>=2.5->dictionaryutils->-r ./gen3schemadev/requirements.txt (line 9)) (23.2.0)\n",
      "Requirement already satisfied: pyrsistent>=0.14.0 in /opt/miniconda3/lib/python3.12/site-packages (from jsonschema<4,>=2.5->dictionaryutils->-r ./gen3schemadev/requirements.txt (line 9)) (0.20.0)\n",
      "Requirement already satisfied: six>=1.11.0 in /opt/miniconda3/lib/python3.12/site-packages (from jsonschema<4,>=2.5->dictionaryutils->-r ./gen3schemadev/requirements.txt (line 9)) (1.16.0)\n",
      "Requirement already satisfied: fastavro<1.9.0,>=1.8.2 in /opt/miniconda3/lib/python3.12/site-packages (from pypfb>=0.5.27->gen3->-r ./gen3schemadev/requirements.txt (line 13)) (1.8.4)\n",
      "Requirement already satisfied: gen3dictionary>=2.0.3 in /opt/miniconda3/lib/python3.12/site-packages (from pypfb>=0.5.27->gen3->-r ./gen3schemadev/requirements.txt (line 13)) (2.0.3)\n",
      "Requirement already satisfied: python-json-logger<0.2.0,>=0.1.11 in /opt/miniconda3/lib/python3.12/site-packages (from pypfb>=0.5.27->gen3->-r ./gen3schemadev/requirements.txt (line 13)) (0.1.11)\n",
      "Requirement already satisfied: aiosignal>=1.1.2 in /opt/miniconda3/lib/python3.12/site-packages (from aiohttp->gen3->-r ./gen3schemadev/requirements.txt (line 13)) (1.3.1)\n",
      "Requirement already satisfied: frozenlist>=1.1.1 in /opt/miniconda3/lib/python3.12/site-packages (from aiohttp->gen3->-r ./gen3schemadev/requirements.txt (line 13)) (1.4.1)\n",
      "Requirement already satisfied: multidict<7.0,>=4.5 in /opt/miniconda3/lib/python3.12/site-packages (from aiohttp->gen3->-r ./gen3schemadev/requirements.txt (line 13)) (6.0.5)\n",
      "Requirement already satisfied: yarl<2.0,>=1.0 in /opt/miniconda3/lib/python3.12/site-packages (from aiohttp->gen3->-r ./gen3schemadev/requirements.txt (line 13)) (1.9.4)\n",
      "Requirement already satisfied: h11<0.15,>=0.13 in /opt/miniconda3/lib/python3.12/site-packages (from httpcore<0.17.0,>=0.15.0->httpx->gen3->-r ./gen3schemadev/requirements.txt (line 13)) (0.14.0)\n",
      "Requirement already satisfied: anyio<5.0,>=3.0 in /opt/miniconda3/lib/python3.12/site-packages (from httpcore<0.17.0,>=0.15.0->httpx->gen3->-r ./gen3schemadev/requirements.txt (line 13)) (4.3.0)\n",
      "Requirement already satisfied: mypy-extensions>=0.3.0 in /opt/miniconda3/lib/python3.12/site-packages (from typing-inspect>=0.4.0->dataclasses-json<=0.5.9->gen3->-r ./gen3schemadev/requirements.txt (line 13)) (1.0.0)\n",
      "Requirement already satisfied: typing-extensions>=3.7.4 in /opt/miniconda3/lib/python3.12/site-packages (from typing-inspect>=0.4.0->dataclasses-json<=0.5.9->gen3->-r ./gen3schemadev/requirements.txt (line 13)) (4.10.0)\n",
      "Using cached argparse-1.4.0-py2.py3-none-any.whl (23 kB)\n",
      "Installing collected packages: argparse\n",
      "Successfully installed argparse-1.4.0\n"
     ]
    }
   ],
   "source": [
    "# Setup virtual environment\n",
    "!python3 -m venv .venv\n",
    "!source .venv/bin/activate\n",
    "!pip3 install -r ./gen3schemadev/requirements.txt\n"
   ]
  },
  {
   "cell_type": "code",
   "execution_count": 26,
   "metadata": {
    "vscode": {
     "languageId": "shellscript"
    }
   },
   "outputs": [
    {
     "ename": "ModuleNotFoundError",
     "evalue": "No module named 'gen3schemadev.schemabundle'",
     "output_type": "error",
     "traceback": [
      "\u001b[0;31m---------------------------------------------------------------------------\u001b[0m",
      "\u001b[0;31mModuleNotFoundError\u001b[0m                       Traceback (most recent call last)",
      "Cell \u001b[0;32mIn[26], line 2\u001b[0m\n\u001b[1;32m      1\u001b[0m \u001b[38;5;66;03m# Import necessary class and create ConfigBundle instance\u001b[39;00m\n\u001b[0;32m----> 2\u001b[0m \u001b[38;5;28;01mfrom\u001b[39;00m \u001b[38;5;21;01mgen3schemadev\u001b[39;00m\u001b[38;5;21;01m.\u001b[39;00m\u001b[38;5;21;01mschemabundle\u001b[39;00m \u001b[38;5;28;01mimport\u001b[39;00m ConfigBundle\n\u001b[1;32m      4\u001b[0m bundle \u001b[38;5;241m=\u001b[39m ConfigBundle(\u001b[38;5;124m\"\u001b[39m\u001b[38;5;124m/Users/gsam0138/Documents/Repositories/Gen3-data-dictionary-dev/gen3schemadev/schema/kidsfirst\u001b[39m\u001b[38;5;124m\"\u001b[39m)\n\u001b[1;32m      5\u001b[0m os\u001b[38;5;241m.\u001b[39mmakedirs(\u001b[38;5;124m\"\u001b[39m\u001b[38;5;124m/Users/gsam0138/Documents/Repositories/Gen3-data-dictionary-dev/gen3schemadev/schema/thyroid\u001b[39m\u001b[38;5;124m\"\u001b[39m, exist_ok\u001b[38;5;241m=\u001b[39m\u001b[38;5;28;01mTrue\u001b[39;00m)\n",
      "\u001b[0;31mModuleNotFoundError\u001b[0m: No module named 'gen3schemadev.schemabundle'"
     ]
    }
   ],
   "source": [
    "# Import necessary class and create ConfigBundle instance\n",
    "import gen3schemadev\n",
    "import os\n",
    "from gen3schemadev.schemabundle import ConfigBundle\n",
    "\n",
    "bundle = ConfigBundle(\"/Users/gsam0138/Documents/Repositories/Gen3-data-dictionary-dev/gen3schemadev/schema/kidsfirst\")\n",
    "os.makedirs(\"/Users/gsam0138/Documents/Repositories/Gen3-data-dictionary-dev/gen3schemadev/schema/thyroid\", exist_ok=True)"
   ]
  },
  {
   "cell_type": "markdown",
   "metadata": {},
   "source": [
    "## Set up the template schema"
   ]
  },
  {
   "cell_type": "code",
   "execution_count": 7,
   "metadata": {},
   "outputs": [
    {
     "ename": "NameError",
     "evalue": "name 'bundle' is not defined",
     "output_type": "error",
     "traceback": [
      "\u001b[0;31m---------------------------------------------------------------------------\u001b[0m",
      "\u001b[0;31mNameError\u001b[0m                                 Traceback (most recent call last)",
      "Cell \u001b[0;32mIn[7], line 2\u001b[0m\n\u001b[1;32m      1\u001b[0m \u001b[38;5;66;03m# Dump contents of kidsfirst bundle into thyroid\u001b[39;00m\n\u001b[0;32m----> 2\u001b[0m \u001b[43mbundle\u001b[49m\u001b[38;5;241m.\u001b[39mdump(\u001b[38;5;124m\"\u001b[39m\u001b[38;5;124m/Users/gsam0138/Documents/Repositories/Gen3-data-dictionary-dev/gen3schemadev/schema/thyroid\u001b[39m\u001b[38;5;124m\"\u001b[39m)\n",
      "\u001b[0;31mNameError\u001b[0m: name 'bundle' is not defined"
     ]
    }
   ],
   "source": [
    "# Dump contents of kidsfirst bundle into thyroid\n",
    "bundle.dump(\"/Users/gsam0138/Documents/Repositories/Gen3-data-dictionary-dev/gen3schemadev/schema/thyroid\")"
   ]
  },
  {
   "cell_type": "code",
   "execution_count": 74,
   "metadata": {},
   "outputs": [
    {
     "data": {
      "text/plain": [
       "dict_keys(['$ref_ubiq', 'days_to_lost_to_followup', 'disease_type', 'index_date', 'lost_to_followup', 'primary_site', 'is_proband', 'external_id', 'family_id', 'consent_type', 'projects', 'families'])"
      ]
     },
     "execution_count": 74,
     "metadata": {},
     "output_type": "execute_result"
    }
   ],
   "source": [
    "# Check the properties of the participants.yaml file\n",
    "bundle.objects['participant.yaml'].properties.keys()"
   ]
  },
  {
   "cell_type": "code",
   "execution_count": 75,
   "metadata": {},
   "outputs": [],
   "source": [
    "# Define properties to delete from the participants.yaml file quickly\n",
    "deletion_list={}\n",
    "deletion_list={\n",
    "    \"participant.yaml\": [\"days_to_lost_to_followup\", \"is_proband\", \"family_id\", \"families\", \"days_to_lost_to_followup\", \"lost_to_followup\"]\n",
    "}"
   ]
  },
  {
   "cell_type": "code",
   "execution_count": 81,
   "metadata": {},
   "outputs": [],
   "source": [
    "# Summarise all properties from all bundle objects and output to excel\n",
    "import pandas as pd\n",
    "\n",
    "data = []\n",
    "for obj in bundle.objects:\n",
    "    for attrib in bundle.objects[obj].get_properties():\n",
    "        data.append({\"object\":obj,\"property\":attrib})\n",
    "dataframe = pd.DataFrame(data)\n",
    "\n",
    "dataframe.to_excel(\"objects.xlsx\", index=False)"
   ]
  },
  {
   "cell_type": "markdown",
   "metadata": {},
   "source": [
    "## Export dataframe to Excel (for now)\n",
    "\n",
    "**For now just using Excel, as having issues with getting Google Sheets to work with API. No time to fix it but once its fixed, follow instructions below.** \n",
    "\n",
    "This requires authorisation to access the specified google sheets document in your drive. To set this up: \n",
    "\n",
    "1. Go to the [Google Developers Console](https://console.cloud.google.com/welcome/new)\n",
    "2. Select your project or create a new one\n",
    "3. Navigate to `IAM & Admin` > `Service accounts`\n",
    "4. Click `Create Service Account`\n",
    "5. Fill in the required information and click `Create`\n",
    "6. Assign the necessary roles (e.g., \"Editor\" or \"Owner\") to the service account\n",
    "7. Click `Continue` and then `Done`\n",
    "8. Click on the newly created service account\n",
    "9. Navigate to the `Keys` tab and click `Add Key` > `JSON`\n",
    "\n",
    "The JSON file will be downloaded to your computer. From here, you can provide the downloaded json file as your credentials file in the code block below. \n"
   ]
  },
  {
   "cell_type": "code",
   "execution_count": 77,
   "metadata": {},
   "outputs": [
    {
     "name": "stdout",
     "output_type": "stream",
     "text": [
      "An error occurred: [Errno 2] No such file or directory: '/Users/gsam0138/Documents/gen3/gen3-421404-66ae97a6e8cc.json'\n"
     ]
    }
   ],
   "source": [
    "## THIS IS CURRENTLY BROKEN, DON'T RUN ##\n",
    "\n",
    "# Authenticate and export data to google sheets\n",
    "#!pip install gspread oauth2client\n",
    "import gspread\n",
    "from google.oauth2.service_account import Credentials\n",
    "\n",
    "scope = ['https://spreadsheets.google.com/feeds', 'https://www.googleapis.com/auth/drive']\n",
    "client = gspread.authorize(creds)\n",
    "\n",
    "try:\n",
    "    # Load credentials from the credentials.json file\n",
    "    creds = Credentials.from_service_account_file('/Users/gsam0138/Documents/gen3/gen3-421404-66ae97a6e8cc.json', scopes=scope)\n",
    "\n",
    "    # Authorize with gspread\n",
    "    client = gspread.authorize(creds)\n",
    "\n",
    "    # Create a Google Sheets file\n",
    "    sheet_name = 'Thyroid-gen3-test'\n",
    "    sheet = client.create(sheet_name)\n",
    "    \n",
    "    # Or open an existing sheet\n",
    "    # sheet = client.open(sheet_name) \n",
    "\n",
    "    print(f\"Sheet '{sheet_name}' has been created!\")\n",
    "\n",
    "except Exception as e:\n",
    "    print(f\"An error occurred: {e}\")\n",
    "\n",
    "# Convert DataFrame to Google Sheets format\n",
    "worksheet = sheet.get_worksheet(0)  # Get the first worksheet\n",
    "worksheet.update([dataframe.columns.values.tolist()] + dataframe.values.tolist())\n"
   ]
  },
  {
   "cell_type": "code",
   "execution_count": 38,
   "metadata": {},
   "outputs": [
    {
     "data": {
      "text/plain": [
       "{'spreadsheetId': '1Gn9g3iwzGmit1rvHsCQRnjdyIv8DIQpSLwWm5bij7ow',\n",
       " 'updatedRange': 'Sheet1!A1:B385',\n",
       " 'updatedRows': 385,\n",
       " 'updatedColumns': 2,\n",
       " 'updatedCells': 770}"
      ]
     },
     "execution_count": 38,
     "metadata": {},
     "output_type": "execute_result"
    }
   ],
   "source": []
  },
  {
   "cell_type": "markdown",
   "metadata": {},
   "source": [
    "### Pulling data schema from google sheets\n",
    "- pulls design from the following google sheet template [link](https://docs.google.com/spreadsheets/d/1zjDBDvXgb0ydswFBwy47r2c8V1TFnpUj1jcG0xsY7ZI/edit?usp=sharing)"
   ]
  },
  {
   "cell_type": "code",
   "execution_count": null,
   "metadata": {
    "vscode": {
     "languageId": "shellscript"
    }
   },
   "outputs": [],
   "source": [
    "# Pulling data schema from google sheets\n",
    "# Note this is loads a gdoc template \n",
    "!rm -R schema_out\n",
    "!python3 sheet2yaml-CLI.py --google-id '1zjDBDvXgb0ydswFBwy47r2c8V1TFnpUj1jcG0xsY7ZI' --objects-gid 0 --links-gid 270346573 --properties-gid 613332252 --enums-gid 1807456496"
   ]
  },
  {
   "cell_type": "code",
   "execution_count": null,
   "metadata": {
    "vscode": {
     "languageId": "shellscript"
    }
   },
   "outputs": [],
   "source": [
    "# Run if  umccr-dict does not exist\n",
    "!cd \"$(pwd)/../\" && git clone https://github.com/AustralianBioCommons/umccr-dictionary.git\n"
   ]
  },
  {
   "cell_type": "code",
   "execution_count": null,
   "metadata": {
    "vscode": {
     "languageId": "shellscript"
    }
   },
   "outputs": [],
   "source": [
    "# Moving schema_out to umccr-dictionary\n",
    "!mkdir -p ../umccr-dictionary/dictionary/schema_dev/gdcdictionary/schemas\n",
    "!cp schema_out/* ../umccr-dictionary/dictionary/schema_dev/gdcdictionary/schemas/\n",
    "!ls -lsha ../umccr-dictionary/dictionary/schema_dev/gdcdictionary/schemas/"
   ]
  },
  {
   "cell_type": "code",
   "execution_count": null,
   "metadata": {
    "vscode": {
     "languageId": "shellscript"
    }
   },
   "outputs": [],
   "source": [
    "# loading containers\n",
    "!cd ../umccr-dictionary && make down\n",
    "!cd ../umccr-dictionary && make pull\n",
    "!cd ../umccr-dictionary && make up\n",
    "!cd ../umccr-dictionary && make ps\n"
   ]
  },
  {
   "cell_type": "code",
   "execution_count": null,
   "metadata": {
    "vscode": {
     "languageId": "shellscript"
    }
   },
   "outputs": [],
   "source": [
    "# compiling and bundling into json\n",
    "!cd ../umccr-dictionary && make compile program=schema_dev\n"
   ]
  },
  {
   "cell_type": "code",
   "execution_count": null,
   "metadata": {
    "vscode": {
     "languageId": "shellscript"
    }
   },
   "outputs": [],
   "source": [
    "# Running Validation\n",
    "!cd ../umccr-dictionary && make validate program=schema_dev"
   ]
  },
  {
   "cell_type": "code",
   "execution_count": null,
   "metadata": {
    "vscode": {
     "languageId": "shellscript"
    }
   },
   "outputs": [],
   "source": [
    "# Visualising data dictionary\n",
    "!open http://localhost:8080/#schema/schema_dev.json"
   ]
  }
 ],
 "metadata": {
  "kernelspec": {
   "display_name": ".venv",
   "language": "python",
   "name": "python3"
  },
  "language_info": {
   "codemirror_mode": {
    "name": "ipython",
    "version": 3
   },
   "file_extension": ".py",
   "mimetype": "text/x-python",
   "name": "python",
   "nbconvert_exporter": "python",
   "pygments_lexer": "ipython3",
   "version": "3.9.6"
  }
 },
 "nbformat": 4,
 "nbformat_minor": 2
}
